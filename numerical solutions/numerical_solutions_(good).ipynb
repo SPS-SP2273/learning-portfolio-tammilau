{
 "cells": [
  {
   "cell_type": "markdown",
   "id": "123456",
   "metadata": {},
   "source": [
    "<div style=\"text-align:left;font-size:2em\"><span style=\"font-weight:bolder;font-size:1.25em\">SP2273 | Learning Portfolio</span><br><br><span style=\"font-weight:bold;color:darkred\">Numerical Solutions (Good)</span></div>"
   ]
  },
  {
   "cell_type": "markdown",
   "id": "e170f95e",
   "metadata": {},
   "source": [
    "## 1 Differential Equations and Euler"
   ]
  },
  {
   "cell_type": "markdown",
   "id": "928da5ff",
   "metadata": {},
   "source": [
    "### 1.2 What do we mean by changes?"
   ]
  },
  {
   "cell_type": "code",
   "execution_count": null,
   "id": "fa7f502f",
   "metadata": {},
   "outputs": [],
   "source": [
    "\n",
    "# Your code here\n"
   ]
  },
  {
   "cell_type": "markdown",
   "id": "1c81ae77",
   "metadata": {},
   "source": [
    "### 1.3 Calculus: Meaning and Notation"
   ]
  },
  {
   "cell_type": "code",
   "execution_count": null,
   "id": "e9ce187c",
   "metadata": {},
   "outputs": [],
   "source": [
    "\n",
    "# Your code here\n"
   ]
  },
  {
   "cell_type": "markdown",
   "id": "b8d1dbfb",
   "metadata": {},
   "source": [
    "### 1.4 Calculus: Getting a feel for \\(\\dfrac{dN}{dt}\\)"
   ]
  },
  {
   "cell_type": "code",
   "execution_count": null,
   "id": "bf63bb9c",
   "metadata": {},
   "outputs": [],
   "source": [
    "\n",
    "# Your code here\n"
   ]
  },
  {
   "cell_type": "markdown",
   "id": "ad3ca95c",
   "metadata": {},
   "source": [
    "### 1.5 Solving Differential Equations"
   ]
  },
  {
   "cell_type": "code",
   "execution_count": null,
   "id": "a363bcbd",
   "metadata": {},
   "outputs": [],
   "source": [
    "\n",
    "# Your code here\n"
   ]
  },
  {
   "cell_type": "markdown",
   "id": "8680887a",
   "metadata": {},
   "source": [
    "### 1.6 The Euler Method"
   ]
  },
  {
   "cell_type": "code",
   "execution_count": null,
   "id": "aa9156af",
   "metadata": {},
   "outputs": [],
   "source": [
    "\n",
    "# Your code here\n"
   ]
  },
  {
   "cell_type": "markdown",
   "id": "a479f915",
   "metadata": {},
   "source": [
    "### 1.7 Using Euler for the logistic equation"
   ]
  },
  {
   "cell_type": "code",
   "execution_count": null,
   "id": "88108ce4",
   "metadata": {},
   "outputs": [],
   "source": [
    "\n",
    "# Your code here\n"
   ]
  },
  {
   "cell_type": "markdown",
   "id": "b649cedb",
   "metadata": {},
   "source": [
    "### 1.8 Some things to note about the code"
   ]
  },
  {
   "cell_type": "code",
   "execution_count": null,
   "id": "c17646e0",
   "metadata": {},
   "outputs": [],
   "source": [
    "\n",
    "# Your code here\n"
   ]
  },
  {
   "cell_type": "markdown",
   "id": "37bfa2f1",
   "metadata": {},
   "source": [
    "## 2 Coupled Differential Equations: Predator-Prey Model"
   ]
  },
  {
   "cell_type": "markdown",
   "id": "34706199",
   "metadata": {},
   "source": [
    "### 2.1 The equations"
   ]
  },
  {
   "cell_type": "code",
   "execution_count": null,
   "id": "a26aeb87",
   "metadata": {},
   "outputs": [],
   "source": [
    "\n",
    "# Your code here\n"
   ]
  },
  {
   "cell_type": "markdown",
   "id": "34af146a",
   "metadata": {},
   "source": [
    "### 2.2 Example code"
   ]
  },
  {
   "cell_type": "code",
   "execution_count": null,
   "id": "d94906cf",
   "metadata": {},
   "outputs": [],
   "source": [
    "\n",
    "# Your code here\n"
   ]
  },
  {
   "cell_type": "markdown",
   "id": "e8397c9c",
   "metadata": {},
   "source": [
    "### 2.3 Some things to note about the code"
   ]
  },
  {
   "cell_type": "code",
   "execution_count": null,
   "id": "d199b00b",
   "metadata": {},
   "outputs": [],
   "source": [
    "\n",
    "# Your code here\n"
   ]
  },
  {
   "cell_type": "markdown",
   "id": "fa5d4079",
   "metadata": {},
   "source": [
    "## 3 Hello SciPy"
   ]
  },
  {
   "cell_type": "markdown",
   "id": "2358c856",
   "metadata": {},
   "source": [
    "### 3.1 SciPy odeint()"
   ]
  },
  {
   "cell_type": "code",
   "execution_count": null,
   "id": "208cf619",
   "metadata": {},
   "outputs": [],
   "source": [
    "\n",
    "# Your code here\n"
   ]
  },
  {
   "cell_type": "markdown",
   "id": "b2f37aaa",
   "metadata": {},
   "source": [
    "### 3.2 Radioactivity"
   ]
  },
  {
   "cell_type": "code",
   "execution_count": null,
   "id": "4bc9f630",
   "metadata": {},
   "outputs": [],
   "source": [
    "\n",
    "# Your code here\n"
   ]
  },
  {
   "cell_type": "markdown",
   "id": "74da9e43",
   "metadata": {},
   "source": [
    "### 3.3 Logistic Equation"
   ]
  },
  {
   "cell_type": "code",
   "execution_count": null,
   "id": "356437ba",
   "metadata": {},
   "outputs": [],
   "source": [
    "\n",
    "# Your code here\n"
   ]
  },
  {
   "cell_type": "markdown",
   "id": "739daa21",
   "metadata": {},
   "source": [
    "### 3.4 Predator-Prey"
   ]
  },
  {
   "cell_type": "code",
   "execution_count": null,
   "id": "e079e925",
   "metadata": {},
   "outputs": [],
   "source": [
    "\n",
    "# Your code here\n"
   ]
  },
  {
   "cell_type": "markdown",
   "id": "bf2f5574",
   "metadata": {},
   "source": [
    "## Exercise 1 :  The Lorentz Attaractor"
   ]
  },
  {
   "cell_type": "code",
   "execution_count": null,
   "id": "4e23bf4d",
   "metadata": {},
   "outputs": [],
   "source": [
    "\n",
    "\n",
    "\n",
    "# Your solution here\n",
    "\n",
    "\n"
   ]
  }
 ],
 "metadata": {
  "kernelspec": {
   "display_name": "Python 3 (ipykernel)",
   "language": "python",
   "name": "python3"
  },
  "language_info": {
   "codemirror_mode": {
    "name": "ipython",
    "version": 3
   },
   "file_extension": ".py",
   "mimetype": "text/x-python",
   "name": "python",
   "nbconvert_exporter": "python",
   "pygments_lexer": "ipython3",
   "version": "3.10.8"
  },
  "toc": {
   "base_numbering": 1,
   "nav_menu": {},
   "number_sections": true,
   "sideBar": true,
   "skip_h1_title": false,
   "title_cell": "Table of Contents",
   "title_sidebar": "Contents",
   "toc_cell": false,
   "toc_position": {},
   "toc_section_display": true,
   "toc_window_display": false
  },
  "varInspector": {
   "cols": {
    "lenName": 16,
    "lenType": 16,
    "lenVar": 40
   },
   "kernels_config": {
    "python": {
     "delete_cmd_postfix": "",
     "delete_cmd_prefix": "del ",
     "library": "var_list.py",
     "varRefreshCmd": "print(var_dic_list())"
    },
    "r": {
     "delete_cmd_postfix": ") ",
     "delete_cmd_prefix": "rm(",
     "library": "var_list.r",
     "varRefreshCmd": "cat(var_dic_list()) "
    }
   },
   "types_to_exclude": [
    "module",
    "function",
    "builtin_function_or_method",
    "instance",
    "_Feature"
   ],
   "window_display": false
  },
  "vscode": {
   "interpreter": {
    "hash": "31f2aee4e71d21fbe5cf8b01ff0e069b9275f58929596ceb00d14d90e3e16cd6"
   }
  }
 },
 "nbformat": 4,
 "nbformat_minor": 5
}
