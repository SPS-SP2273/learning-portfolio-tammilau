{
 "cells": [
  {
   "cell_type": "markdown",
   "id": "123456",
   "metadata": {},
   "source": [
    "<div style=\"text-align:left;font-size:2em\"><span style=\"font-weight:bolder;font-size:1.25em\">SP2273 | Learning Portfolio</span><br><br><span style=\"font-weight:bold;color:darkred\">Just Exercises (I)</span></div>"
   ]
  },
  {
   "cell_type": "markdown",
   "id": "58d57e60",
   "metadata": {},
   "source": [
    "## Exercise 1 :  F-strings to the rescue"
   ]
  },
  {
   "cell_type": "code",
   "execution_count": 44,
   "id": "88dc86ac",
   "metadata": {},
   "outputs": [
    {
     "name": "stdout",
     "output_type": "stream",
     "text": [
      "00001\n",
      "00002\n",
      "00003\n",
      "00004\n",
      "00005\n",
      "00006\n",
      "00007\n",
      "00008\n",
      "00009\n",
      "00010\n"
     ]
    }
   ],
   "source": [
    "for i in range (1,11):\n",
    "    print(f'{i:05}')"
   ]
  },
  {
   "cell_type": "code",
   "execution_count": 7,
   "id": "dddfcd19",
   "metadata": {},
   "outputs": [
    {
     "name": "stdout",
     "output_type": "stream",
     "text": [
      "001          +\n",
      "002         ++\n",
      "003        +++\n",
      "004       ++++\n",
      "005      +++++\n",
      "006     ++++++\n",
      "007    +++++++\n",
      "008   ++++++++\n",
      "009  +++++++++\n",
      "010 ++++++++++\n"
     ]
    }
   ],
   "source": [
    "for i in range (1,11):\n",
    "    print(f'{i:03d}'+' '*(11-i) + '+'*i)"
   ]
  },
  {
   "cell_type": "code",
   "execution_count": 19,
   "id": "8be88343",
   "metadata": {},
   "outputs": [
    {
     "name": "stdout",
     "output_type": "stream",
     "text": [
      "001 -+++++++++\n",
      "002 --++++++++\n",
      "003 ---+++++++\n",
      "004 ----++++++\n",
      "005 -----+++++\n",
      "006 ------++++\n",
      "007 -------+++\n",
      "008 --------++\n",
      "009 ---------+\n",
      "010 ----------\n"
     ]
    }
   ],
   "source": [
    " for i in range (1,11):\n",
    "     print(f'{i:03d}'+' '+'-'*i + '+'*(10-i))"
   ]
  },
  {
   "cell_type": "code",
   "execution_count": 39,
   "id": "2f03e4a1",
   "metadata": {},
   "outputs": [
    {
     "name": "stdout",
     "output_type": "stream",
     "text": [
      "['bruce_exploits.txt', 'bruce_enermies.txt', 'bruce_friends.txt', 'natasha_exploits.txt', 'natasha_enermies.txt', 'natasha_friends.txt', 'tony_exploits.txt', 'tony_enermies.txt', 'tony_friends.txt']\n"
     ]
    }
   ],
   "source": [
    "list_superhero = []\n",
    "sequence1 = ['bruce','natasha','tony']\n",
    "sequence2 = ['exploits', 'enermies','friends']\n",
    "for name in sequence1:\n",
    "    for label in sequence2:\n",
    "        list_superhero.append(f'{name}_{label}.txt')\n",
    "print(list_superhero)"
   ]
  },
  {
   "cell_type": "code",
   "execution_count": 53,
   "id": "6acaaad5",
   "metadata": {},
   "outputs": [
    {
     "name": "stdout",
     "output_type": "stream",
     "text": [
      "['sg_exp-01_trial-001.txt', 'sg_exp-01_trial-002.txt', 'sg_exp-01_trial-003.txt', 'sg_exp-01_trial-004.txt', 'sg_exp-01_trial-005.txt', 'sg_exp-01_trial-006.txt', 'sg_exp-01_trial-007.txt', 'sg_exp-01_trial-008.txt', 'sg_exp-01_trial-009.txt', 'sg_exp-01_trial-010.txt', 'sg_exp-01_trial-011.txt', 'sg_exp-01_trial-012.txt', 'sg_exp-01_trial-013.txt', 'sg_exp-01_trial-014.txt', 'sg_exp-01_trial-015.txt', 'sg_exp-01_trial-016.txt', 'sg_exp-01_trial-017.txt', 'sg_exp-01_trial-018.txt', 'sg_exp-01_trial-019.txt', 'sg_exp-01_trial-020.txt', 'sg_exp-01_trial-021.txt', 'sg_exp-01_trial-022.txt', 'sg_exp-01_trial-023.txt', 'sg_exp-01_trial-024.txt', 'sg_exp-01_trial-025.txt', 'sg_exp-01_trial-026.txt', 'sg_exp-01_trial-027.txt', 'sg_exp-01_trial-028.txt', 'sg_exp-01_trial-029.txt', 'sg_exp-01_trial-030.txt', 'sg_exp-01_trial-031.txt', 'sg_exp-01_trial-032.txt', 'sg_exp-01_trial-033.txt', 'sg_exp-01_trial-034.txt', 'sg_exp-01_trial-035.txt', 'sg_exp-01_trial-036.txt', 'sg_exp-01_trial-037.txt', 'sg_exp-01_trial-038.txt', 'sg_exp-01_trial-039.txt', 'sg_exp-01_trial-040.txt', 'sg_exp-01_trial-041.txt', 'sg_exp-01_trial-042.txt', 'sg_exp-01_trial-043.txt', 'sg_exp-01_trial-044.txt', 'sg_exp-01_trial-045.txt', 'sg_exp-01_trial-046.txt', 'sg_exp-01_trial-047.txt', 'sg_exp-01_trial-048.txt', 'sg_exp-01_trial-049.txt', 'sg_exp-01_trial-050.txt', 'sg_exp-02_trial-001.txt', 'sg_exp-02_trial-002.txt', 'sg_exp-02_trial-003.txt', 'sg_exp-02_trial-004.txt', 'sg_exp-02_trial-005.txt', 'sg_exp-02_trial-006.txt', 'sg_exp-02_trial-007.txt', 'sg_exp-02_trial-008.txt', 'sg_exp-02_trial-009.txt', 'sg_exp-02_trial-010.txt', 'sg_exp-02_trial-011.txt', 'sg_exp-02_trial-012.txt', 'sg_exp-02_trial-013.txt', 'sg_exp-02_trial-014.txt', 'sg_exp-02_trial-015.txt', 'sg_exp-02_trial-016.txt', 'sg_exp-02_trial-017.txt', 'sg_exp-02_trial-018.txt', 'sg_exp-02_trial-019.txt', 'sg_exp-02_trial-020.txt', 'sg_exp-02_trial-021.txt', 'sg_exp-02_trial-022.txt', 'sg_exp-02_trial-023.txt', 'sg_exp-02_trial-024.txt', 'sg_exp-02_trial-025.txt', 'sg_exp-02_trial-026.txt', 'sg_exp-02_trial-027.txt', 'sg_exp-02_trial-028.txt', 'sg_exp-02_trial-029.txt', 'sg_exp-02_trial-030.txt', 'sg_exp-02_trial-031.txt', 'sg_exp-02_trial-032.txt', 'sg_exp-02_trial-033.txt', 'sg_exp-02_trial-034.txt', 'sg_exp-02_trial-035.txt', 'sg_exp-02_trial-036.txt', 'sg_exp-02_trial-037.txt', 'sg_exp-02_trial-038.txt', 'sg_exp-02_trial-039.txt', 'sg_exp-02_trial-040.txt', 'sg_exp-02_trial-041.txt', 'sg_exp-02_trial-042.txt', 'sg_exp-02_trial-043.txt', 'sg_exp-02_trial-044.txt', 'sg_exp-02_trial-045.txt', 'sg_exp-02_trial-046.txt', 'sg_exp-02_trial-047.txt', 'sg_exp-02_trial-048.txt', 'sg_exp-02_trial-049.txt', 'sg_exp-02_trial-050.txt', 'sg_exp-03_trial-001.txt', 'sg_exp-03_trial-002.txt', 'sg_exp-03_trial-003.txt', 'sg_exp-03_trial-004.txt', 'sg_exp-03_trial-005.txt', 'sg_exp-03_trial-006.txt', 'sg_exp-03_trial-007.txt', 'sg_exp-03_trial-008.txt', 'sg_exp-03_trial-009.txt', 'sg_exp-03_trial-010.txt', 'sg_exp-03_trial-011.txt', 'sg_exp-03_trial-012.txt', 'sg_exp-03_trial-013.txt', 'sg_exp-03_trial-014.txt', 'sg_exp-03_trial-015.txt', 'sg_exp-03_trial-016.txt', 'sg_exp-03_trial-017.txt', 'sg_exp-03_trial-018.txt', 'sg_exp-03_trial-019.txt', 'sg_exp-03_trial-020.txt', 'sg_exp-03_trial-021.txt', 'sg_exp-03_trial-022.txt', 'sg_exp-03_trial-023.txt', 'sg_exp-03_trial-024.txt', 'sg_exp-03_trial-025.txt', 'sg_exp-03_trial-026.txt', 'sg_exp-03_trial-027.txt', 'sg_exp-03_trial-028.txt', 'sg_exp-03_trial-029.txt', 'sg_exp-03_trial-030.txt', 'sg_exp-03_trial-031.txt', 'sg_exp-03_trial-032.txt', 'sg_exp-03_trial-033.txt', 'sg_exp-03_trial-034.txt', 'sg_exp-03_trial-035.txt', 'sg_exp-03_trial-036.txt', 'sg_exp-03_trial-037.txt', 'sg_exp-03_trial-038.txt', 'sg_exp-03_trial-039.txt', 'sg_exp-03_trial-040.txt', 'sg_exp-03_trial-041.txt', 'sg_exp-03_trial-042.txt', 'sg_exp-03_trial-043.txt', 'sg_exp-03_trial-044.txt', 'sg_exp-03_trial-045.txt', 'sg_exp-03_trial-046.txt', 'sg_exp-03_trial-047.txt', 'sg_exp-03_trial-048.txt', 'sg_exp-03_trial-049.txt', 'sg_exp-03_trial-050.txt', 'gb_exp-01_trial-001.txt', 'gb_exp-01_trial-002.txt', 'gb_exp-01_trial-003.txt', 'gb_exp-01_trial-004.txt', 'gb_exp-01_trial-005.txt', 'gb_exp-01_trial-006.txt', 'gb_exp-01_trial-007.txt', 'gb_exp-01_trial-008.txt', 'gb_exp-01_trial-009.txt', 'gb_exp-01_trial-010.txt', 'gb_exp-01_trial-011.txt', 'gb_exp-01_trial-012.txt', 'gb_exp-01_trial-013.txt', 'gb_exp-01_trial-014.txt', 'gb_exp-01_trial-015.txt', 'gb_exp-01_trial-016.txt', 'gb_exp-01_trial-017.txt', 'gb_exp-01_trial-018.txt', 'gb_exp-01_trial-019.txt', 'gb_exp-01_trial-020.txt', 'gb_exp-01_trial-021.txt', 'gb_exp-01_trial-022.txt', 'gb_exp-01_trial-023.txt', 'gb_exp-01_trial-024.txt', 'gb_exp-01_trial-025.txt', 'gb_exp-01_trial-026.txt', 'gb_exp-01_trial-027.txt', 'gb_exp-01_trial-028.txt', 'gb_exp-01_trial-029.txt', 'gb_exp-01_trial-030.txt', 'gb_exp-01_trial-031.txt', 'gb_exp-01_trial-032.txt', 'gb_exp-01_trial-033.txt', 'gb_exp-01_trial-034.txt', 'gb_exp-01_trial-035.txt', 'gb_exp-01_trial-036.txt', 'gb_exp-01_trial-037.txt', 'gb_exp-01_trial-038.txt', 'gb_exp-01_trial-039.txt', 'gb_exp-01_trial-040.txt', 'gb_exp-01_trial-041.txt', 'gb_exp-01_trial-042.txt', 'gb_exp-01_trial-043.txt', 'gb_exp-01_trial-044.txt', 'gb_exp-01_trial-045.txt', 'gb_exp-01_trial-046.txt', 'gb_exp-01_trial-047.txt', 'gb_exp-01_trial-048.txt', 'gb_exp-01_trial-049.txt', 'gb_exp-01_trial-050.txt', 'gb_exp-02_trial-001.txt', 'gb_exp-02_trial-002.txt', 'gb_exp-02_trial-003.txt', 'gb_exp-02_trial-004.txt', 'gb_exp-02_trial-005.txt', 'gb_exp-02_trial-006.txt', 'gb_exp-02_trial-007.txt', 'gb_exp-02_trial-008.txt', 'gb_exp-02_trial-009.txt', 'gb_exp-02_trial-010.txt', 'gb_exp-02_trial-011.txt', 'gb_exp-02_trial-012.txt', 'gb_exp-02_trial-013.txt', 'gb_exp-02_trial-014.txt', 'gb_exp-02_trial-015.txt', 'gb_exp-02_trial-016.txt', 'gb_exp-02_trial-017.txt', 'gb_exp-02_trial-018.txt', 'gb_exp-02_trial-019.txt', 'gb_exp-02_trial-020.txt', 'gb_exp-02_trial-021.txt', 'gb_exp-02_trial-022.txt', 'gb_exp-02_trial-023.txt', 'gb_exp-02_trial-024.txt', 'gb_exp-02_trial-025.txt', 'gb_exp-02_trial-026.txt', 'gb_exp-02_trial-027.txt', 'gb_exp-02_trial-028.txt', 'gb_exp-02_trial-029.txt', 'gb_exp-02_trial-030.txt', 'gb_exp-02_trial-031.txt', 'gb_exp-02_trial-032.txt', 'gb_exp-02_trial-033.txt', 'gb_exp-02_trial-034.txt', 'gb_exp-02_trial-035.txt', 'gb_exp-02_trial-036.txt', 'gb_exp-02_trial-037.txt', 'gb_exp-02_trial-038.txt', 'gb_exp-02_trial-039.txt', 'gb_exp-02_trial-040.txt', 'gb_exp-02_trial-041.txt', 'gb_exp-02_trial-042.txt', 'gb_exp-02_trial-043.txt', 'gb_exp-02_trial-044.txt', 'gb_exp-02_trial-045.txt', 'gb_exp-02_trial-046.txt', 'gb_exp-02_trial-047.txt', 'gb_exp-02_trial-048.txt', 'gb_exp-02_trial-049.txt', 'gb_exp-02_trial-050.txt', 'gb_exp-03_trial-001.txt', 'gb_exp-03_trial-002.txt', 'gb_exp-03_trial-003.txt', 'gb_exp-03_trial-004.txt', 'gb_exp-03_trial-005.txt', 'gb_exp-03_trial-006.txt', 'gb_exp-03_trial-007.txt', 'gb_exp-03_trial-008.txt', 'gb_exp-03_trial-009.txt', 'gb_exp-03_trial-010.txt', 'gb_exp-03_trial-011.txt', 'gb_exp-03_trial-012.txt', 'gb_exp-03_trial-013.txt', 'gb_exp-03_trial-014.txt', 'gb_exp-03_trial-015.txt', 'gb_exp-03_trial-016.txt', 'gb_exp-03_trial-017.txt', 'gb_exp-03_trial-018.txt', 'gb_exp-03_trial-019.txt', 'gb_exp-03_trial-020.txt', 'gb_exp-03_trial-021.txt', 'gb_exp-03_trial-022.txt', 'gb_exp-03_trial-023.txt', 'gb_exp-03_trial-024.txt', 'gb_exp-03_trial-025.txt', 'gb_exp-03_trial-026.txt', 'gb_exp-03_trial-027.txt', 'gb_exp-03_trial-028.txt', 'gb_exp-03_trial-029.txt', 'gb_exp-03_trial-030.txt', 'gb_exp-03_trial-031.txt', 'gb_exp-03_trial-032.txt', 'gb_exp-03_trial-033.txt', 'gb_exp-03_trial-034.txt', 'gb_exp-03_trial-035.txt', 'gb_exp-03_trial-036.txt', 'gb_exp-03_trial-037.txt', 'gb_exp-03_trial-038.txt', 'gb_exp-03_trial-039.txt', 'gb_exp-03_trial-040.txt', 'gb_exp-03_trial-041.txt', 'gb_exp-03_trial-042.txt', 'gb_exp-03_trial-043.txt', 'gb_exp-03_trial-044.txt', 'gb_exp-03_trial-045.txt', 'gb_exp-03_trial-046.txt', 'gb_exp-03_trial-047.txt', 'gb_exp-03_trial-048.txt', 'gb_exp-03_trial-049.txt', 'gb_exp-03_trial-050.txt', 'us_exp-01_trial-001.txt', 'us_exp-01_trial-002.txt', 'us_exp-01_trial-003.txt', 'us_exp-01_trial-004.txt', 'us_exp-01_trial-005.txt', 'us_exp-01_trial-006.txt', 'us_exp-01_trial-007.txt', 'us_exp-01_trial-008.txt', 'us_exp-01_trial-009.txt', 'us_exp-01_trial-010.txt', 'us_exp-01_trial-011.txt', 'us_exp-01_trial-012.txt', 'us_exp-01_trial-013.txt', 'us_exp-01_trial-014.txt', 'us_exp-01_trial-015.txt', 'us_exp-01_trial-016.txt', 'us_exp-01_trial-017.txt', 'us_exp-01_trial-018.txt', 'us_exp-01_trial-019.txt', 'us_exp-01_trial-020.txt', 'us_exp-01_trial-021.txt', 'us_exp-01_trial-022.txt', 'us_exp-01_trial-023.txt', 'us_exp-01_trial-024.txt', 'us_exp-01_trial-025.txt', 'us_exp-01_trial-026.txt', 'us_exp-01_trial-027.txt', 'us_exp-01_trial-028.txt', 'us_exp-01_trial-029.txt', 'us_exp-01_trial-030.txt', 'us_exp-01_trial-031.txt', 'us_exp-01_trial-032.txt', 'us_exp-01_trial-033.txt', 'us_exp-01_trial-034.txt', 'us_exp-01_trial-035.txt', 'us_exp-01_trial-036.txt', 'us_exp-01_trial-037.txt', 'us_exp-01_trial-038.txt', 'us_exp-01_trial-039.txt', 'us_exp-01_trial-040.txt', 'us_exp-01_trial-041.txt', 'us_exp-01_trial-042.txt', 'us_exp-01_trial-043.txt', 'us_exp-01_trial-044.txt', 'us_exp-01_trial-045.txt', 'us_exp-01_trial-046.txt', 'us_exp-01_trial-047.txt', 'us_exp-01_trial-048.txt', 'us_exp-01_trial-049.txt', 'us_exp-01_trial-050.txt', 'us_exp-02_trial-001.txt', 'us_exp-02_trial-002.txt', 'us_exp-02_trial-003.txt', 'us_exp-02_trial-004.txt', 'us_exp-02_trial-005.txt', 'us_exp-02_trial-006.txt', 'us_exp-02_trial-007.txt', 'us_exp-02_trial-008.txt', 'us_exp-02_trial-009.txt', 'us_exp-02_trial-010.txt', 'us_exp-02_trial-011.txt', 'us_exp-02_trial-012.txt', 'us_exp-02_trial-013.txt', 'us_exp-02_trial-014.txt', 'us_exp-02_trial-015.txt', 'us_exp-02_trial-016.txt', 'us_exp-02_trial-017.txt', 'us_exp-02_trial-018.txt', 'us_exp-02_trial-019.txt', 'us_exp-02_trial-020.txt', 'us_exp-02_trial-021.txt', 'us_exp-02_trial-022.txt', 'us_exp-02_trial-023.txt', 'us_exp-02_trial-024.txt', 'us_exp-02_trial-025.txt', 'us_exp-02_trial-026.txt', 'us_exp-02_trial-027.txt', 'us_exp-02_trial-028.txt', 'us_exp-02_trial-029.txt', 'us_exp-02_trial-030.txt', 'us_exp-02_trial-031.txt', 'us_exp-02_trial-032.txt', 'us_exp-02_trial-033.txt', 'us_exp-02_trial-034.txt', 'us_exp-02_trial-035.txt', 'us_exp-02_trial-036.txt', 'us_exp-02_trial-037.txt', 'us_exp-02_trial-038.txt', 'us_exp-02_trial-039.txt', 'us_exp-02_trial-040.txt', 'us_exp-02_trial-041.txt', 'us_exp-02_trial-042.txt', 'us_exp-02_trial-043.txt', 'us_exp-02_trial-044.txt', 'us_exp-02_trial-045.txt', 'us_exp-02_trial-046.txt', 'us_exp-02_trial-047.txt', 'us_exp-02_trial-048.txt', 'us_exp-02_trial-049.txt', 'us_exp-02_trial-050.txt', 'us_exp-03_trial-001.txt', 'us_exp-03_trial-002.txt', 'us_exp-03_trial-003.txt', 'us_exp-03_trial-004.txt', 'us_exp-03_trial-005.txt', 'us_exp-03_trial-006.txt', 'us_exp-03_trial-007.txt', 'us_exp-03_trial-008.txt', 'us_exp-03_trial-009.txt', 'us_exp-03_trial-010.txt', 'us_exp-03_trial-011.txt', 'us_exp-03_trial-012.txt', 'us_exp-03_trial-013.txt', 'us_exp-03_trial-014.txt', 'us_exp-03_trial-015.txt', 'us_exp-03_trial-016.txt', 'us_exp-03_trial-017.txt', 'us_exp-03_trial-018.txt', 'us_exp-03_trial-019.txt', 'us_exp-03_trial-020.txt', 'us_exp-03_trial-021.txt', 'us_exp-03_trial-022.txt', 'us_exp-03_trial-023.txt', 'us_exp-03_trial-024.txt', 'us_exp-03_trial-025.txt', 'us_exp-03_trial-026.txt', 'us_exp-03_trial-027.txt', 'us_exp-03_trial-028.txt', 'us_exp-03_trial-029.txt', 'us_exp-03_trial-030.txt', 'us_exp-03_trial-031.txt', 'us_exp-03_trial-032.txt', 'us_exp-03_trial-033.txt', 'us_exp-03_trial-034.txt', 'us_exp-03_trial-035.txt', 'us_exp-03_trial-036.txt', 'us_exp-03_trial-037.txt', 'us_exp-03_trial-038.txt', 'us_exp-03_trial-039.txt', 'us_exp-03_trial-040.txt', 'us_exp-03_trial-041.txt', 'us_exp-03_trial-042.txt', 'us_exp-03_trial-043.txt', 'us_exp-03_trial-044.txt', 'us_exp-03_trial-045.txt', 'us_exp-03_trial-046.txt', 'us_exp-03_trial-047.txt', 'us_exp-03_trial-048.txt', 'us_exp-03_trial-049.txt', 'us_exp-03_trial-050.txt']\n"
     ]
    }
   ],
   "source": [
    "curator = []\n",
    "countries = ['sg','gb','us']\n",
    "experiments = ['exp-01','exp-02','exp-03']\n",
    "trial = [number for number in range(1,51)]\n",
    "for name in countries:\n",
    "    for label in experiments:\n",
    "        for number in trial:\n",
    "            curator.append(f'{name}_{label}_trial-{number:03d}.txt')\n",
    "print(curator)"
   ]
  },
  {
   "cell_type": "markdown",
   "id": "761f734b",
   "metadata": {},
   "source": [
    "## Exercise 2 :  Tutti frutti"
   ]
  },
  {
   "cell_type": "code",
   "execution_count": 54,
   "id": "6c4ffb4f",
   "metadata": {},
   "outputs": [
    {
     "data": {
      "text/plain": [
       "True"
      ]
     },
     "execution_count": 54,
     "metadata": {},
     "output_type": "execute_result"
    }
   ],
   "source": [
    "fruits = [\"apple\", \"banana\", \"pineapple\", \"jackfruit\",\n",
    "        \"peach\", \"durian\", \"watermelon\", \"mango\",\n",
    "        \"strawberry\", \"passionfruit\"]\n",
    "\n",
    "'mango' in fruits"
   ]
  },
  {
   "cell_type": "code",
   "execution_count": 62,
   "id": "c39670ed",
   "metadata": {},
   "outputs": [
    {
     "name": "stdout",
     "output_type": "stream",
     "text": [
      "ae\n",
      "ba\n",
      "pe\n",
      "jt\n",
      "ph\n",
      "dn\n",
      "wn\n",
      "mo\n",
      "sy\n",
      "pt\n"
     ]
    }
   ],
   "source": [
    "fruits = [\"apple\", \"banana\", \"pineapple\", \"jackfruit\",\n",
    "        \"peach\", \"durian\", \"watermelon\", \"mango\",\n",
    "        \"strawberry\", \"passionfruit\"]\n",
    "for name in fruits:\n",
    "    print(f'{name[0]}{name[-1]}')"
   ]
  },
  {
   "cell_type": "code",
   "execution_count": 63,
   "id": "6da1586b",
   "metadata": {},
   "outputs": [
    {
     "name": "stdout",
     "output_type": "stream",
     "text": [
      "apple\n",
      "banana\n",
      "PINEAPPLE\n",
      "jackfruit\n",
      "PEACH\n",
      "durian\n",
      "watermelon\n",
      "mango\n",
      "strawberry\n",
      "PASSIONFRUIT\n"
     ]
    }
   ],
   "source": [
    "fruits = [\"apple\", \"banana\", \"pineapple\", \"jackfruit\",\n",
    "        \"peach\", \"durian\", \"watermelon\", \"mango\",\n",
    "        \"strawberry\", \"passionfruit\"]\n",
    "\n",
    "for name in fruits:\n",
    "    if name[0] == 'p':\n",
    "         print(name.upper())\n",
    "    else:\n",
    "        print(name.lower())"
   ]
  },
  {
   "cell_type": "code",
   "execution_count": 91,
   "id": "ab7bb6b3",
   "metadata": {},
   "outputs": [
    {
     "name": "stdout",
     "output_type": "stream",
     "text": [
      "['apple', 'banana', 'pineapple', 'jackfruit', 'peach', 'durian', 'watermelon', 'mango', 'strawberry', 'passionfruit', 'dragon fruit', 'apricots', 'oranges']\n"
     ]
    }
   ],
   "source": [
    "fruits = [\"apple\", \"banana\", \"pineapple\", \"jackfruit\",\n",
    "        \"peach\", \"durian\", \"watermelon\", \"mango\",\n",
    "        \"strawberry\", \"passionfruit\"]\n",
    "\n",
    "extra = [\"dragon fruit\", \"apricots\", \"oranges\"]\n",
    "\n",
    "for name in extra:\n",
    "    fruits.append(f'{name}')\n",
    "\n",
    "print(fruits)"
   ]
  },
  {
   "cell_type": "code",
   "execution_count": 92,
   "id": "9af271c9",
   "metadata": {},
   "outputs": [
    {
     "name": "stdout",
     "output_type": "stream",
     "text": [
      "['oranges', 'apricots', 'dragon fruit', 'apple', 'banana', 'pineapple', 'jackfruit', 'peach', 'durian', 'watermelon', 'mango', 'strawberry', 'passionfruit']\n"
     ]
    }
   ],
   "source": [
    "fruits = [\"apple\", \"banana\", \"pineapple\", \"jackfruit\",\n",
    "        \"peach\", \"durian\", \"watermelon\", \"mango\",\n",
    "        \"strawberry\", \"passionfruit\"]\n",
    "\n",
    "extra = [\"dragon fruit\", \"apricots\", \"oranges\"]\n",
    "\n",
    "for name in extra:\n",
    "    fruits.insert(0,f'{name}')\n",
    "\n",
    "print(fruits)"
   ]
  },
  {
   "cell_type": "code",
   "execution_count": null,
   "id": "41a2f077",
   "metadata": {},
   "outputs": [],
   "source": [
    "fruits = [\"apple\", \"banana\", \"pineapple\", \"jackfruit\",\n",
    "        \"peach\", \"durian\", \"watermelon\", \"mango\",\n",
    "        \"strawberry\", \"passionfruit\"]\n",
    "\n",
    "extra = [\"dragon fruit\", \"apricots\", \"oranges\"]\n"
   ]
  },
  {
   "cell_type": "markdown",
   "id": "6feb886b",
   "metadata": {},
   "source": [
    "## Exercise 3 :  Ciao Fibonacci"
   ]
  },
  {
   "cell_type": "code",
   "execution_count": null,
   "id": "105ff1d3",
   "metadata": {},
   "outputs": [],
   "source": [
    "\n",
    "\n",
    "\n",
    "# Your solution here\n",
    "\n",
    "\n"
   ]
  },
  {
   "cell_type": "markdown",
   "id": "20d8d387",
   "metadata": {},
   "source": [
    "## Exercise 4 :  A function for Fibonacci"
   ]
  },
  {
   "cell_type": "code",
   "execution_count": null,
   "id": "cbea77ef",
   "metadata": {},
   "outputs": [],
   "source": [
    "\n",
    "\n",
    "\n",
    "# Your solution here\n",
    "\n",
    "\n"
   ]
  },
  {
   "cell_type": "markdown",
   "id": "3ec46072",
   "metadata": {},
   "source": [
    "## Exercise 5 :  max_info() without NumPy"
   ]
  },
  {
   "cell_type": "code",
   "execution_count": null,
   "id": "1dc34c59",
   "metadata": {},
   "outputs": [],
   "source": [
    "\n",
    "\n",
    "\n",
    "# Your solution here\n",
    "\n",
    "\n"
   ]
  },
  {
   "cell_type": "markdown",
   "id": "18e29d24",
   "metadata": {},
   "source": [
    "## Exercise 6 :  Take count"
   ]
  },
  {
   "cell_type": "code",
   "execution_count": null,
   "id": "bf302c7f",
   "metadata": {},
   "outputs": [],
   "source": [
    "\n",
    "\n",
    "\n",
    "# Your solution here\n",
    "\n",
    "\n"
   ]
  }
 ],
 "metadata": {
  "kernelspec": {
   "display_name": "Python 3 (ipykernel)",
   "language": "python",
   "name": "python3"
  },
  "language_info": {
   "codemirror_mode": {
    "name": "ipython",
    "version": 3
   },
   "file_extension": ".py",
   "mimetype": "text/x-python",
   "name": "python",
   "nbconvert_exporter": "python",
   "pygments_lexer": "ipython3",
   "version": "3.10.8"
  },
  "toc": {
   "base_numbering": 1,
   "nav_menu": {},
   "number_sections": true,
   "sideBar": true,
   "skip_h1_title": false,
   "title_cell": "Table of Contents",
   "title_sidebar": "Contents",
   "toc_cell": false,
   "toc_position": {},
   "toc_section_display": true,
   "toc_window_display": false
  },
  "varInspector": {
   "cols": {
    "lenName": 16,
    "lenType": 16,
    "lenVar": 40
   },
   "kernels_config": {
    "python": {
     "delete_cmd_postfix": "",
     "delete_cmd_prefix": "del ",
     "library": "var_list.py",
     "varRefreshCmd": "print(var_dic_list())"
    },
    "r": {
     "delete_cmd_postfix": ") ",
     "delete_cmd_prefix": "rm(",
     "library": "var_list.r",
     "varRefreshCmd": "cat(var_dic_list()) "
    }
   },
   "types_to_exclude": [
    "module",
    "function",
    "builtin_function_or_method",
    "instance",
    "_Feature"
   ],
   "window_display": false
  },
  "vscode": {
   "interpreter": {
    "hash": "31f2aee4e71d21fbe5cf8b01ff0e069b9275f58929596ceb00d14d90e3e16cd6"
   }
  }
 },
 "nbformat": 4,
 "nbformat_minor": 5
}
