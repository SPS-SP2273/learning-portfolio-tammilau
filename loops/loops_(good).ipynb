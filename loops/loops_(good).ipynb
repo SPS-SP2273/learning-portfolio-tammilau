{
 "cells": [
  {
   "cell_type": "markdown",
   "id": "123456",
   "metadata": {},
   "source": [
    "<div style=\"text-align:left;font-size:2em\"><span style=\"font-weight:bolder;font-size:1.25em\">SP2273 | Learning Portfolio</span><br><br><span style=\"font-weight:bold;color:darkred\">Loops (Good)</span></div>"
   ]
  },
  {
   "cell_type": "markdown",
   "id": "a817e67b",
   "metadata": {},
   "source": [
    "## 1 Interrupting the flow"
   ]
  },
  {
   "cell_type": "code",
   "execution_count": 8,
   "id": "1ce3181e",
   "metadata": {},
   "outputs": [
    {
     "name": "stdout",
     "output_type": "stream",
     "text": [
      "0\n",
      "1\n",
      "2\n",
      "3\n",
      "4\n",
      "5\n",
      "6\n"
     ]
    }
   ],
   "source": [
    "for i in range(10):\n",
    "    if i > 6: break\n",
    "    print(i)"
   ]
  },
  {
   "cell_type": "code",
   "execution_count": 2,
   "id": "56bba94f",
   "metadata": {
    "code_folding": []
   },
   "outputs": [
    {
     "name": "stdout",
     "output_type": "stream",
     "text": [
      "0\n",
      "1\n",
      "2\n",
      "3\n",
      "4\n",
      "5\n",
      "7\n",
      "8\n",
      "9\n"
     ]
    }
   ],
   "source": [
    "for i in range(10):\n",
    "    if i ==6: continue\n",
    "    print(i)"
   ]
  },
  {
   "cell_type": "code",
   "execution_count": 6,
   "id": "9bfc1f8f",
   "metadata": {},
   "outputs": [
    {
     "name": "stdout",
     "output_type": "stream",
     "text": [
      "1\n",
      "3\n",
      "5\n",
      "7\n",
      "9\n"
     ]
    }
   ],
   "source": [
    "for i in range(10):\n",
    "    if i % 2 == 0: continue\n",
    "    print(i)"
   ]
  },
  {
   "cell_type": "code",
   "execution_count": 7,
   "id": "bd594d61",
   "metadata": {},
   "outputs": [
    {
     "name": "stdout",
     "output_type": "stream",
     "text": [
      "0\n",
      "1\n",
      "2\n",
      "3\n",
      "4\n"
     ]
    }
   ],
   "source": [
    "number = 0 \n",
    "\n",
    "while True:\n",
    "    print(number)\n",
    "    number += 1 \n",
    "    if number >4: break"
   ]
  },
  {
   "cell_type": "markdown",
   "id": "d5479227",
   "metadata": {},
   "source": [
    "## 2 List comprehension!"
   ]
  },
  {
   "cell_type": "markdown",
   "id": "9f66ace4",
   "metadata": {},
   "source": [
    "### 2.1 Basic syntax"
   ]
  },
  {
   "cell_type": "code",
   "execution_count": 10,
   "id": "ca733607",
   "metadata": {},
   "outputs": [
    {
     "data": {
      "text/plain": [
       "[0, 1, 4, 9, 16, 25, 36, 49, 64, 81]"
      ]
     },
     "execution_count": 10,
     "metadata": {},
     "output_type": "execute_result"
    }
   ],
   "source": [
    "[number for number in range(10)]\n",
    "\n",
    "[number**2 for number in range(10)]"
   ]
  },
  {
   "cell_type": "markdown",
   "id": "604a509e",
   "metadata": {},
   "source": [
    "### 2.2 List comprehension with conditions"
   ]
  },
  {
   "cell_type": "code",
   "execution_count": 11,
   "id": "d5249d1e",
   "metadata": {},
   "outputs": [
    {
     "data": {
      "text/plain": [
       "[0, 2, 4, 6, 8]"
      ]
     },
     "execution_count": 11,
     "metadata": {},
     "output_type": "execute_result"
    }
   ],
   "source": [
    "[number for number in range(10) if number % 2 ==0]"
   ]
  },
  {
   "cell_type": "markdown",
   "id": "c691fd01",
   "metadata": {},
   "source": [
    "## 3 Other useful stuff"
   ]
  },
  {
   "cell_type": "markdown",
   "id": "ccc8e8c6",
   "metadata": {},
   "source": [
    "### 3.1 for with unpacking"
   ]
  },
  {
   "cell_type": "code",
   "execution_count": 13,
   "id": "f39aee7b",
   "metadata": {},
   "outputs": [
    {
     "name": "stdout",
     "output_type": "stream",
     "text": [
      "Natasha Romanoff is Marvel's Black Widow!\n",
      "Tony Stark is Marvel's Iron Man!\n",
      "Stephen Strange is Marvel's Doctor Strange!\n"
     ]
    }
   ],
   "source": [
    "py_superhero_info=[['Natasha Romanoff', 'Black Widow'],\n",
    "                     ['Tony Stark', 'Iron Man'],\n",
    "                     ['Stephen Strange', 'Doctor Strange']]\n",
    "\n",
    "for real_name, super_name in py_superhero_info:\n",
    "    print(f\"{real_name} is Marvel's {super_name}!\")"
   ]
  },
  {
   "cell_type": "markdown",
   "id": "0a06da80",
   "metadata": {},
   "source": [
    "### 3.2 for with a zip()"
   ]
  },
  {
   "cell_type": "code",
   "execution_count": 15,
   "id": "c79eb396",
   "metadata": {},
   "outputs": [
    {
     "name": "stdout",
     "output_type": "stream",
     "text": [
      "Natasha Romanoff is Marvel's Black Widow!\n",
      "Tony Stark is Marvel's Iron Man!\n",
      "Stephen Strange is Marvel's Doctor Strange!\n"
     ]
    }
   ],
   "source": [
    "super_names = [\"Black Widow\", \"Iron Man\", \"Doctor Strange\"]\n",
    "real_names = [\"Natasha Romanoff\", \"Tony Stark\", \"Stephen Strange\"]\n",
    "\n",
    "for real_name, super_name in zip(real_names,super_names):\n",
    "    print(f\"{real_name} is Marvel's {super_name}!\")"
   ]
  },
  {
   "cell_type": "markdown",
   "id": "7c309ab7",
   "metadata": {},
   "source": [
    "### 3.3 for with dictionaries"
   ]
  },
  {
   "cell_type": "code",
   "execution_count": 16,
   "id": "7a5b097b",
   "metadata": {},
   "outputs": [
    {
     "name": "stdout",
     "output_type": "stream",
     "text": [
      "Natasha Romanoff is Marvel's Black Widow!\n",
      "Tony Stark is Marvel's Iron Man!\n",
      "Stephen Strange is Marvel's Doctor Strange!\n"
     ]
    }
   ],
   "source": [
    "superhero_info={\"Natasha Romanoff\": \"Black Widow\",\n",
    "                \"Tony Stark\": \"Iron Man\",\n",
    "                \"Stephen Strange\": \"Doctor Strange\"}\n",
    "\n",
    "for key, value in superhero_info.items():\n",
    "    print(f\"{key} is Marvel's {value}!\")"
   ]
  },
  {
   "cell_type": "markdown",
   "id": "2365acd2",
   "metadata": {},
   "source": [
    "## Exercise 1 :  Make me an odd list"
   ]
  },
  {
   "cell_type": "code",
   "execution_count": 14,
   "id": "7eb3c120",
   "metadata": {},
   "outputs": [
    {
     "name": "stdout",
     "output_type": "stream",
     "text": [
      "[1, 9, 25, 49, 81]\n"
     ]
    }
   ],
   "source": [
    "odd_list = []\n",
    "\n",
    "for i in range(10):\n",
    "    if i % 2 == 0: continue\n",
    "    odd_list.append(i**2)\n",
    "print(odd_list)"
   ]
  },
  {
   "cell_type": "markdown",
   "id": "32063ab7",
   "metadata": {},
   "source": [
    "## Exercise 2 :  Make me another odd list"
   ]
  },
  {
   "cell_type": "code",
   "execution_count": 26,
   "id": "0189c2df",
   "metadata": {},
   "outputs": [
    {
     "data": {
      "text/plain": [
       "[1, 9, 25, 49, 81]"
      ]
     },
     "execution_count": 26,
     "metadata": {},
     "output_type": "execute_result"
    }
   ],
   "source": [
    "[number**2 for number in range(10) if number % 2 == 1]"
   ]
  },
  {
   "cell_type": "markdown",
   "id": "9a1d9fd5",
   "metadata": {},
   "source": [
    "## Exercise 3 :  Time me!"
   ]
  },
  {
   "cell_type": "code",
   "execution_count": 22,
   "id": "8b4dc97a",
   "metadata": {},
   "outputs": [
    {
     "name": "stdout",
     "output_type": "stream",
     "text": [
      "2.1 µs ± 176 ns per loop (mean ± std. dev. of 7 runs, 100,000 loops each)\n"
     ]
    }
   ],
   "source": [
    "%%timeit \n",
    "[number**2 for number in range(10) if number % 2 == 1]"
   ]
  },
  {
   "cell_type": "code",
   "execution_count": 25,
   "id": "e6c2d839",
   "metadata": {},
   "outputs": [
    {
     "name": "stdout",
     "output_type": "stream",
     "text": [
      "2.03 µs ± 71.7 ns per loop (mean ± std. dev. of 7 runs, 100,000 loops each)\n"
     ]
    }
   ],
   "source": [
    "%%timeit\n",
    "odd_list = []\n",
    "\n",
    "for i in range(10):\n",
    "    if i % 2 == 0: continue\n",
    "    odd_list.append(i**2)"
   ]
  },
  {
   "cell_type": "code",
   "execution_count": null,
   "id": "cc1b8b85",
   "metadata": {},
   "outputs": [],
   "source": []
  }
 ],
 "metadata": {
  "kernelspec": {
   "display_name": "Python 3 (ipykernel)",
   "language": "python",
   "name": "python3"
  },
  "language_info": {
   "codemirror_mode": {
    "name": "ipython",
    "version": 3
   },
   "file_extension": ".py",
   "mimetype": "text/x-python",
   "name": "python",
   "nbconvert_exporter": "python",
   "pygments_lexer": "ipython3",
   "version": "3.10.8"
  },
  "toc": {
   "base_numbering": 1,
   "nav_menu": {},
   "number_sections": true,
   "sideBar": true,
   "skip_h1_title": false,
   "title_cell": "Table of Contents",
   "title_sidebar": "Contents",
   "toc_cell": false,
   "toc_position": {},
   "toc_section_display": true,
   "toc_window_display": false
  },
  "varInspector": {
   "cols": {
    "lenName": 16,
    "lenType": 16,
    "lenVar": 40
   },
   "kernels_config": {
    "python": {
     "delete_cmd_postfix": "",
     "delete_cmd_prefix": "del ",
     "library": "var_list.py",
     "varRefreshCmd": "print(var_dic_list())"
    },
    "r": {
     "delete_cmd_postfix": ") ",
     "delete_cmd_prefix": "rm(",
     "library": "var_list.r",
     "varRefreshCmd": "cat(var_dic_list()) "
    }
   },
   "types_to_exclude": [
    "module",
    "function",
    "builtin_function_or_method",
    "instance",
    "_Feature"
   ],
   "window_display": false
  },
  "vscode": {
   "interpreter": {
    "hash": "31f2aee4e71d21fbe5cf8b01ff0e069b9275f58929596ceb00d14d90e3e16cd6"
   }
  }
 },
 "nbformat": 4,
 "nbformat_minor": 5
}
